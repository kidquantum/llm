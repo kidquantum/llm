{
 "cells": [
  {
   "cell_type": "code",
   "execution_count": 1,
   "id": "9cc64745-0f77-45ff-9e9a-3db50109282e",
   "metadata": {
    "execution": {
     "iopub.execute_input": "2023-05-27T18:36:31.175473Z",
     "iopub.status.busy": "2023-05-27T18:36:31.175099Z",
     "iopub.status.idle": "2023-05-27T18:36:35.962652Z",
     "shell.execute_reply": "2023-05-27T18:36:35.962058Z",
     "shell.execute_reply.started": "2023-05-27T18:36:31.175449Z"
    },
    "tags": []
   },
   "outputs": [],
   "source": [
    "from transformers import AutoModel, AutoTokenizer, PreTrainedTokenizerFast, PreTrainedModel, BertTokenizer\n",
    "model = \"pritamdeka/S-PubMedBert-MS-MARCO\""
   ]
  },
  {
   "cell_type": "code",
   "execution_count": 2,
   "id": "af628115-858e-4384-a767-44f469753cf5",
   "metadata": {
    "execution": {
     "iopub.execute_input": "2023-05-27T18:36:38.655586Z",
     "iopub.status.busy": "2023-05-27T18:36:38.655132Z",
     "iopub.status.idle": "2023-05-27T18:36:38.835720Z",
     "shell.execute_reply": "2023-05-27T18:36:38.835109Z",
     "shell.execute_reply.started": "2023-05-27T18:36:38.655563Z"
    },
    "tags": []
   },
   "outputs": [
    {
     "name": "stderr",
     "output_type": "stream",
     "text": [
      "The tokenizer class you load from this checkpoint is not the same type as the class this function is called from. It may result in unexpected tokenization. \n",
      "The tokenizer class you load from this checkpoint is 'BertTokenizer'. \n",
      "The class this function is called from is 'PreTrainedTokenizerFast'.\n"
     ]
    }
   ],
   "source": [
    "tokenizer = PreTrainedTokenizerFast.from_pretrained(model)"
   ]
  },
  {
   "cell_type": "code",
   "execution_count": 5,
   "id": "858e68ba-fafc-44df-8ec2-321303e2af98",
   "metadata": {
    "execution": {
     "iopub.execute_input": "2023-05-27T18:37:09.916014Z",
     "iopub.status.busy": "2023-05-27T18:37:09.915639Z",
     "iopub.status.idle": "2023-05-27T18:37:12.294363Z",
     "shell.execute_reply": "2023-05-27T18:37:12.293731Z",
     "shell.execute_reply.started": "2023-05-27T18:37:09.915992Z"
    },
    "tags": []
   },
   "outputs": [
    {
     "name": "stderr",
     "output_type": "stream",
     "text": [
      "Found cached dataset json (/home/jovyan/.cache/huggingface/datasets/json/default-c7ebc142947617f3/0.0.0)\n"
     ]
    }
   ],
   "source": [
    "from datasets import Dataset\n",
    "ds = Dataset.from_json(\"/home/jovyan/output-cardiology/pubmed/data.jsonl\")"
   ]
  },
  {
   "cell_type": "code",
   "execution_count": 101,
   "id": "1f7b1486-bed3-4b12-a54f-60f660cd0180",
   "metadata": {
    "execution": {
     "iopub.execute_input": "2023-05-27T00:20:40.589065Z",
     "iopub.status.busy": "2023-05-27T00:20:40.588674Z",
     "iopub.status.idle": "2023-05-27T00:20:40.594718Z",
     "shell.execute_reply": "2023-05-27T00:20:40.594104Z",
     "shell.execute_reply.started": "2023-05-27T00:20:40.589040Z"
    },
    "tags": []
   },
   "outputs": [],
   "source": [
    "from langchain.text_splitter import RecursiveCharacterTextSplitter\n",
    "# from langchain.text_splitter import NLTKTextSplitter\n",
    "\n",
    "\n",
    "def split(batch: Dataset):\n",
    "    text_splitter = RecursiveCharacterTextSplitter.from_huggingface_tokenizer(tokenizer,\n",
    "        chunk_size = 256,\n",
    "        chunk_overlap = 20,\n",
    "        separators=[\"\\n\\n\", \"\\n\", \".\", \" \"]\n",
    "    )\n",
    "    new_rows = []\n",
    "    text_input = []\n",
    "    meta = []\n",
    "    for idx, text in enumerate(batch['text']):\n",
    "        text_input.append(text)\n",
    "        meta.append({'index': idx})\n",
    "    docs = text_splitter.create_documents(text_input, meta)\n",
    "    columns = batch.column_names\n",
    "    \n",
    "    \n",
    "    for doc in docs:\n",
    "        new_row = {}\n",
    "        new_row['text'] = doc.page_content\n",
    "        old_row = batch[doc.metadata.index]\n",
    "        new_row.update(old_row)\n",
    "        new_rows.append(new_row)\n",
    "    return new_rows    "
   ]
  },
  {
   "cell_type": "code",
   "execution_count": 103,
   "id": "36e25068-8a8f-4f33-a5d2-3d12a9619aa9",
   "metadata": {
    "execution": {
     "iopub.execute_input": "2023-05-27T00:21:55.376976Z",
     "iopub.status.busy": "2023-05-27T00:21:55.376544Z",
     "iopub.status.idle": "2023-05-27T00:21:55.620149Z",
     "shell.execute_reply": "2023-05-27T00:21:55.619313Z",
     "shell.execute_reply.started": "2023-05-27T00:21:55.376950Z"
    },
    "tags": []
   },
   "outputs": [
    {
     "data": {
      "application/vnd.jupyter.widget-view+json": {
       "model_id": "5bcdc992aa6a4c9bbde77570fc5e0a00",
       "version_major": 2,
       "version_minor": 0
      },
      "text/plain": [
       "Map:   0%|          | 0/549563 [00:00<?, ? examples/s]"
      ]
     },
     "metadata": {},
     "output_type": "display_data"
    },
    {
     "ename": "TypeError",
     "evalue": "string indices must be integers",
     "output_type": "error",
     "traceback": [
      "\u001b[0;31m---------------------------------------------------------------------------\u001b[0m",
      "\u001b[0;31mTypeError\u001b[0m                                 Traceback (most recent call last)",
      "Cell \u001b[0;32mIn[103], line 1\u001b[0m\n\u001b[0;32m----> 1\u001b[0m ds2 \u001b[38;5;241m=\u001b[39m \u001b[43mds\u001b[49m\u001b[38;5;241;43m.\u001b[39;49m\u001b[43mmap\u001b[49m\u001b[43m(\u001b[49m\u001b[43msplit\u001b[49m\u001b[43m,\u001b[49m\u001b[43m \u001b[49m\u001b[43mbatch_size\u001b[49m\u001b[38;5;241;43m=\u001b[39;49m\u001b[38;5;241;43m100\u001b[39;49m\u001b[43m,\u001b[49m\u001b[43m \u001b[49m\u001b[43mbatched\u001b[49m\u001b[38;5;241;43m=\u001b[39;49m\u001b[38;5;28;43;01mTrue\u001b[39;49;00m\u001b[43m)\u001b[49m\n",
      "File \u001b[0;32m/opt/saturncloud/envs/saturn/lib/python3.9/site-packages/datasets/arrow_dataset.py:578\u001b[0m, in \u001b[0;36mtransmit_tasks.<locals>.wrapper\u001b[0;34m(*args, **kwargs)\u001b[0m\n\u001b[1;32m    576\u001b[0m     \u001b[38;5;28mself\u001b[39m: \u001b[38;5;124m\"\u001b[39m\u001b[38;5;124mDataset\u001b[39m\u001b[38;5;124m\"\u001b[39m \u001b[38;5;241m=\u001b[39m kwargs\u001b[38;5;241m.\u001b[39mpop(\u001b[38;5;124m\"\u001b[39m\u001b[38;5;124mself\u001b[39m\u001b[38;5;124m\"\u001b[39m)\n\u001b[1;32m    577\u001b[0m \u001b[38;5;66;03m# apply actual function\u001b[39;00m\n\u001b[0;32m--> 578\u001b[0m out: Union[\u001b[38;5;124m\"\u001b[39m\u001b[38;5;124mDataset\u001b[39m\u001b[38;5;124m\"\u001b[39m, \u001b[38;5;124m\"\u001b[39m\u001b[38;5;124mDatasetDict\u001b[39m\u001b[38;5;124m\"\u001b[39m] \u001b[38;5;241m=\u001b[39m \u001b[43mfunc\u001b[49m\u001b[43m(\u001b[49m\u001b[38;5;28;43mself\u001b[39;49m\u001b[43m,\u001b[49m\u001b[43m \u001b[49m\u001b[38;5;241;43m*\u001b[39;49m\u001b[43margs\u001b[49m\u001b[43m,\u001b[49m\u001b[43m \u001b[49m\u001b[38;5;241;43m*\u001b[39;49m\u001b[38;5;241;43m*\u001b[39;49m\u001b[43mkwargs\u001b[49m\u001b[43m)\u001b[49m\n\u001b[1;32m    579\u001b[0m datasets: List[\u001b[38;5;124m\"\u001b[39m\u001b[38;5;124mDataset\u001b[39m\u001b[38;5;124m\"\u001b[39m] \u001b[38;5;241m=\u001b[39m \u001b[38;5;28mlist\u001b[39m(out\u001b[38;5;241m.\u001b[39mvalues()) \u001b[38;5;28;01mif\u001b[39;00m \u001b[38;5;28misinstance\u001b[39m(out, \u001b[38;5;28mdict\u001b[39m) \u001b[38;5;28;01melse\u001b[39;00m [out]\n\u001b[1;32m    580\u001b[0m \u001b[38;5;28;01mfor\u001b[39;00m dataset \u001b[38;5;129;01min\u001b[39;00m datasets:\n\u001b[1;32m    581\u001b[0m     \u001b[38;5;66;03m# Remove task templates if a column mapping of the template is no longer valid\u001b[39;00m\n",
      "File \u001b[0;32m/opt/saturncloud/envs/saturn/lib/python3.9/site-packages/datasets/arrow_dataset.py:543\u001b[0m, in \u001b[0;36mtransmit_format.<locals>.wrapper\u001b[0;34m(*args, **kwargs)\u001b[0m\n\u001b[1;32m    536\u001b[0m self_format \u001b[38;5;241m=\u001b[39m {\n\u001b[1;32m    537\u001b[0m     \u001b[38;5;124m\"\u001b[39m\u001b[38;5;124mtype\u001b[39m\u001b[38;5;124m\"\u001b[39m: \u001b[38;5;28mself\u001b[39m\u001b[38;5;241m.\u001b[39m_format_type,\n\u001b[1;32m    538\u001b[0m     \u001b[38;5;124m\"\u001b[39m\u001b[38;5;124mformat_kwargs\u001b[39m\u001b[38;5;124m\"\u001b[39m: \u001b[38;5;28mself\u001b[39m\u001b[38;5;241m.\u001b[39m_format_kwargs,\n\u001b[1;32m    539\u001b[0m     \u001b[38;5;124m\"\u001b[39m\u001b[38;5;124mcolumns\u001b[39m\u001b[38;5;124m\"\u001b[39m: \u001b[38;5;28mself\u001b[39m\u001b[38;5;241m.\u001b[39m_format_columns,\n\u001b[1;32m    540\u001b[0m     \u001b[38;5;124m\"\u001b[39m\u001b[38;5;124moutput_all_columns\u001b[39m\u001b[38;5;124m\"\u001b[39m: \u001b[38;5;28mself\u001b[39m\u001b[38;5;241m.\u001b[39m_output_all_columns,\n\u001b[1;32m    541\u001b[0m }\n\u001b[1;32m    542\u001b[0m \u001b[38;5;66;03m# apply actual function\u001b[39;00m\n\u001b[0;32m--> 543\u001b[0m out: Union[\u001b[38;5;124m\"\u001b[39m\u001b[38;5;124mDataset\u001b[39m\u001b[38;5;124m\"\u001b[39m, \u001b[38;5;124m\"\u001b[39m\u001b[38;5;124mDatasetDict\u001b[39m\u001b[38;5;124m\"\u001b[39m] \u001b[38;5;241m=\u001b[39m \u001b[43mfunc\u001b[49m\u001b[43m(\u001b[49m\u001b[38;5;28;43mself\u001b[39;49m\u001b[43m,\u001b[49m\u001b[43m \u001b[49m\u001b[38;5;241;43m*\u001b[39;49m\u001b[43margs\u001b[49m\u001b[43m,\u001b[49m\u001b[43m \u001b[49m\u001b[38;5;241;43m*\u001b[39;49m\u001b[38;5;241;43m*\u001b[39;49m\u001b[43mkwargs\u001b[49m\u001b[43m)\u001b[49m\n\u001b[1;32m    544\u001b[0m datasets: List[\u001b[38;5;124m\"\u001b[39m\u001b[38;5;124mDataset\u001b[39m\u001b[38;5;124m\"\u001b[39m] \u001b[38;5;241m=\u001b[39m \u001b[38;5;28mlist\u001b[39m(out\u001b[38;5;241m.\u001b[39mvalues()) \u001b[38;5;28;01mif\u001b[39;00m \u001b[38;5;28misinstance\u001b[39m(out, \u001b[38;5;28mdict\u001b[39m) \u001b[38;5;28;01melse\u001b[39;00m [out]\n\u001b[1;32m    545\u001b[0m \u001b[38;5;66;03m# re-apply format to the output\u001b[39;00m\n",
      "File \u001b[0;32m/opt/saturncloud/envs/saturn/lib/python3.9/site-packages/datasets/arrow_dataset.py:3073\u001b[0m, in \u001b[0;36mDataset.map\u001b[0;34m(self, function, with_indices, with_rank, input_columns, batched, batch_size, drop_last_batch, remove_columns, keep_in_memory, load_from_cache_file, cache_file_name, writer_batch_size, features, disable_nullable, fn_kwargs, num_proc, suffix_template, new_fingerprint, desc)\u001b[0m\n\u001b[1;32m   3065\u001b[0m \u001b[38;5;28;01mif\u001b[39;00m transformed_dataset \u001b[38;5;129;01mis\u001b[39;00m \u001b[38;5;28;01mNone\u001b[39;00m:\n\u001b[1;32m   3066\u001b[0m     \u001b[38;5;28;01mwith\u001b[39;00m logging\u001b[38;5;241m.\u001b[39mtqdm(\n\u001b[1;32m   3067\u001b[0m         disable\u001b[38;5;241m=\u001b[39m\u001b[38;5;129;01mnot\u001b[39;00m logging\u001b[38;5;241m.\u001b[39mis_progress_bar_enabled(),\n\u001b[1;32m   3068\u001b[0m         unit\u001b[38;5;241m=\u001b[39m\u001b[38;5;124m\"\u001b[39m\u001b[38;5;124m examples\u001b[39m\u001b[38;5;124m\"\u001b[39m,\n\u001b[0;32m   (...)\u001b[0m\n\u001b[1;32m   3071\u001b[0m         desc\u001b[38;5;241m=\u001b[39mdesc \u001b[38;5;129;01mor\u001b[39;00m \u001b[38;5;124m\"\u001b[39m\u001b[38;5;124mMap\u001b[39m\u001b[38;5;124m\"\u001b[39m,\n\u001b[1;32m   3072\u001b[0m     ) \u001b[38;5;28;01mas\u001b[39;00m pbar:\n\u001b[0;32m-> 3073\u001b[0m         \u001b[38;5;28;01mfor\u001b[39;00m rank, done, content \u001b[38;5;129;01min\u001b[39;00m Dataset\u001b[38;5;241m.\u001b[39m_map_single(\u001b[38;5;241m*\u001b[39m\u001b[38;5;241m*\u001b[39mdataset_kwargs):\n\u001b[1;32m   3074\u001b[0m             \u001b[38;5;28;01mif\u001b[39;00m done:\n\u001b[1;32m   3075\u001b[0m                 shards_done \u001b[38;5;241m+\u001b[39m\u001b[38;5;241m=\u001b[39m \u001b[38;5;241m1\u001b[39m\n",
      "File \u001b[0;32m/opt/saturncloud/envs/saturn/lib/python3.9/site-packages/datasets/arrow_dataset.py:3449\u001b[0m, in \u001b[0;36mDataset._map_single\u001b[0;34m(shard, function, with_indices, with_rank, input_columns, batched, batch_size, drop_last_batch, remove_columns, keep_in_memory, cache_file_name, writer_batch_size, features, disable_nullable, fn_kwargs, new_fingerprint, rank, offset)\u001b[0m\n\u001b[1;32m   3445\u001b[0m indices \u001b[38;5;241m=\u001b[39m \u001b[38;5;28mlist\u001b[39m(\n\u001b[1;32m   3446\u001b[0m     \u001b[38;5;28mrange\u001b[39m(\u001b[38;5;241m*\u001b[39m(\u001b[38;5;28mslice\u001b[39m(i, i \u001b[38;5;241m+\u001b[39m batch_size)\u001b[38;5;241m.\u001b[39mindices(shard\u001b[38;5;241m.\u001b[39mnum_rows)))\n\u001b[1;32m   3447\u001b[0m )  \u001b[38;5;66;03m# Something simpler?\u001b[39;00m\n\u001b[1;32m   3448\u001b[0m \u001b[38;5;28;01mtry\u001b[39;00m:\n\u001b[0;32m-> 3449\u001b[0m     batch \u001b[38;5;241m=\u001b[39m \u001b[43mapply_function_on_filtered_inputs\u001b[49m\u001b[43m(\u001b[49m\n\u001b[1;32m   3450\u001b[0m \u001b[43m        \u001b[49m\u001b[43mbatch\u001b[49m\u001b[43m,\u001b[49m\n\u001b[1;32m   3451\u001b[0m \u001b[43m        \u001b[49m\u001b[43mindices\u001b[49m\u001b[43m,\u001b[49m\n\u001b[1;32m   3452\u001b[0m \u001b[43m        \u001b[49m\u001b[43mcheck_same_num_examples\u001b[49m\u001b[38;5;241;43m=\u001b[39;49m\u001b[38;5;28;43mlen\u001b[39;49m\u001b[43m(\u001b[49m\u001b[43mshard\u001b[49m\u001b[38;5;241;43m.\u001b[39;49m\u001b[43mlist_indexes\u001b[49m\u001b[43m(\u001b[49m\u001b[43m)\u001b[49m\u001b[43m)\u001b[49m\u001b[43m \u001b[49m\u001b[38;5;241;43m>\u001b[39;49m\u001b[43m \u001b[49m\u001b[38;5;241;43m0\u001b[39;49m\u001b[43m,\u001b[49m\n\u001b[1;32m   3453\u001b[0m \u001b[43m        \u001b[49m\u001b[43moffset\u001b[49m\u001b[38;5;241;43m=\u001b[39;49m\u001b[43moffset\u001b[49m\u001b[43m,\u001b[49m\n\u001b[1;32m   3454\u001b[0m \u001b[43m    \u001b[49m\u001b[43m)\u001b[49m\n\u001b[1;32m   3455\u001b[0m \u001b[38;5;28;01mexcept\u001b[39;00m NumExamplesMismatchError:\n\u001b[1;32m   3456\u001b[0m     \u001b[38;5;28;01mraise\u001b[39;00m DatasetTransformationNotAllowedError(\n\u001b[1;32m   3457\u001b[0m         \u001b[38;5;124m\"\u001b[39m\u001b[38;5;124mUsing `.map` in batched mode on a dataset with attached indexes is allowed only if it doesn\u001b[39m\u001b[38;5;124m'\u001b[39m\u001b[38;5;124mt create or remove existing examples. You can first run `.drop_index() to remove your index and then re-add it.\u001b[39m\u001b[38;5;124m\"\u001b[39m\n\u001b[1;32m   3458\u001b[0m     ) \u001b[38;5;28;01mfrom\u001b[39;00m \u001b[38;5;28;01mNone\u001b[39;00m\n",
      "File \u001b[0;32m/opt/saturncloud/envs/saturn/lib/python3.9/site-packages/datasets/arrow_dataset.py:3330\u001b[0m, in \u001b[0;36mDataset._map_single.<locals>.apply_function_on_filtered_inputs\u001b[0;34m(pa_inputs, indices, check_same_num_examples, offset)\u001b[0m\n\u001b[1;32m   3328\u001b[0m \u001b[38;5;28;01mif\u001b[39;00m with_rank:\n\u001b[1;32m   3329\u001b[0m     additional_args \u001b[38;5;241m+\u001b[39m\u001b[38;5;241m=\u001b[39m (rank,)\n\u001b[0;32m-> 3330\u001b[0m processed_inputs \u001b[38;5;241m=\u001b[39m \u001b[43mfunction\u001b[49m\u001b[43m(\u001b[49m\u001b[38;5;241;43m*\u001b[39;49m\u001b[43mfn_args\u001b[49m\u001b[43m,\u001b[49m\u001b[43m \u001b[49m\u001b[38;5;241;43m*\u001b[39;49m\u001b[43madditional_args\u001b[49m\u001b[43m,\u001b[49m\u001b[43m \u001b[49m\u001b[38;5;241;43m*\u001b[39;49m\u001b[38;5;241;43m*\u001b[39;49m\u001b[43mfn_kwargs\u001b[49m\u001b[43m)\u001b[49m\n\u001b[1;32m   3331\u001b[0m \u001b[38;5;28;01mif\u001b[39;00m \u001b[38;5;28misinstance\u001b[39m(processed_inputs, LazyDict):\n\u001b[1;32m   3332\u001b[0m     processed_inputs \u001b[38;5;241m=\u001b[39m {\n\u001b[1;32m   3333\u001b[0m         k: v \u001b[38;5;28;01mfor\u001b[39;00m k, v \u001b[38;5;129;01min\u001b[39;00m processed_inputs\u001b[38;5;241m.\u001b[39mdata\u001b[38;5;241m.\u001b[39mitems() \u001b[38;5;28;01mif\u001b[39;00m k \u001b[38;5;129;01mnot\u001b[39;00m \u001b[38;5;129;01min\u001b[39;00m processed_inputs\u001b[38;5;241m.\u001b[39mkeys_to_format\n\u001b[1;32m   3334\u001b[0m     }\n",
      "Cell \u001b[0;32mIn[101], line 17\u001b[0m, in \u001b[0;36msplit\u001b[0;34m(batch)\u001b[0m\n\u001b[1;32m     15\u001b[0m meta \u001b[38;5;241m=\u001b[39m []\n\u001b[1;32m     16\u001b[0m \u001b[38;5;28;01mfor\u001b[39;00m idx, row \u001b[38;5;129;01min\u001b[39;00m \u001b[38;5;28menumerate\u001b[39m(batch):\n\u001b[0;32m---> 17\u001b[0m     text_input\u001b[38;5;241m.\u001b[39mappend(\u001b[43mrow\u001b[49m\u001b[43m[\u001b[49m\u001b[38;5;124;43m'\u001b[39;49m\u001b[38;5;124;43mtext\u001b[39;49m\u001b[38;5;124;43m'\u001b[39;49m\u001b[43m]\u001b[49m)\n\u001b[1;32m     18\u001b[0m     meta\u001b[38;5;241m.\u001b[39mappend({\u001b[38;5;124m'\u001b[39m\u001b[38;5;124mindex\u001b[39m\u001b[38;5;124m'\u001b[39m: idx})\n\u001b[1;32m     19\u001b[0m docs \u001b[38;5;241m=\u001b[39m text_splitter\u001b[38;5;241m.\u001b[39mcreate_documents(text_input, meta)\n",
      "\u001b[0;31mTypeError\u001b[0m: string indices must be integers"
     ]
    }
   ],
   "source": [
    "ds2 = ds.map(split, batch_size=100, batched=True)"
   ]
  },
  {
   "cell_type": "code",
   "execution_count": 97,
   "id": "2f59a508-7231-4ddb-a649-6c3754d64a35",
   "metadata": {
    "execution": {
     "iopub.execute_input": "2023-05-26T21:36:47.879935Z",
     "iopub.status.busy": "2023-05-26T21:36:47.879551Z",
     "iopub.status.idle": "2023-05-26T21:36:47.894163Z",
     "shell.execute_reply": "2023-05-26T21:36:47.893571Z",
     "shell.execute_reply.started": "2023-05-26T21:36:47.879909Z"
    }
   },
   "outputs": [],
   "source": [
    "docs = text_splitter.create_documents([x['text'] for x in all_data[:10]])"
   ]
  },
  {
   "cell_type": "code",
   "execution_count": 98,
   "id": "db1e95f9-d7f6-4eed-8010-b408a28a3aac",
   "metadata": {
    "execution": {
     "iopub.execute_input": "2023-05-26T21:36:50.764823Z",
     "iopub.status.busy": "2023-05-26T21:36:50.764420Z",
     "iopub.status.idle": "2023-05-26T21:36:50.769625Z",
     "shell.execute_reply": "2023-05-26T21:36:50.768870Z",
     "shell.execute_reply.started": "2023-05-26T21:36:50.764797Z"
    }
   },
   "outputs": [
    {
     "data": {
      "text/plain": [
       "[Document(page_content='The importance of the contribution of atrial systole to ventricular filling in mitral stenosis is controversial. The cause of reduced cardiac output following the onset of atrial fibrillation may be due to an increased heart rate, a loss of booster pump function, or both.', metadata={}),\n",
       " Document(page_content='Imaging of the flow convergence region (FCR) proximal to a regurgitant orifice has been shown to provide a method for quantifying the regurgitant flow rate. According to the continuity principle, the FCR is constituted by concentric hemispheric isovelocity surfaces centered at the orifice. The flow rate is constant across all isovelocity surfaces and equals the flow rate through the orifice. For any isovelocity surface the flow rate (Q) is given by: Q = 2 pi r2 Vr, where 2 pi r2 is the area of the hemisphere and Vr is the velocity at the radial distance (r) from the orifice.', metadata={}),\n",
       " Document(page_content='This study was designed to evaluate the effect of severe peripheral arterial insufficiency on carnitine concentrations and carnitine acetyltransferase and palmitoyltransferase activities in the ischemic skeletal muscles of patients with severe peripheral vascular disease.', metadata={}),\n",
       " Document(page_content='Regional nonuniformity has been suggested to be closely related to left ventricular (LV) relaxation in diseased heart. The purpose of the present study was to assess LV global and regional relaxation in patients with nonobstructive hypertrophic cardiomyopathy (HCM).', metadata={}),\n",
       " Document(page_content='In myocardial infarction patients, heart rate-adjusted QT interval (QTc), an electrocardiographic indicator of sympathetic balance, is prognostic for survival.', metadata={}),\n",
       " Document(page_content='From the international long QT syndrome (LQTS) study, 30 patients with corrected QT interval (QTc) of more than 0.44 second 1/2 were identified who had permanent pacemakers implanted for management of recurrent syncope or aborted cardiac arrest.', metadata={}),\n",
       " Document(page_content='The idiopathic long QT syndrome (LQTS) is characterized by electrocardiographic abnormalities and by a high incidence of lethal arrhythmias. The present case/control study demonstrates the frequent occurrence of unusual and specific ventricular wall motion abnormalities in LQTS and their association with history of syncope or cardiac arrest. These anomalies were present in 23 of 42 LQTS patients (55%) and in two of 42 healthy controls (5%, p less than 0.0001) matched for age, sex, height, and weight.', metadata={}),\n",
       " Document(page_content='During a 2.9-year period, 11 patients developed polymorphous ventricular tachycardia 1-13 days after acute anterior (seven patients) or inferior (four patients) myocardial infarction. None of the 11 patients had sinus bradycardia (mean heart rate, 90 +/- 23 beats/min), but three had a sinus pause immediately before the onset of polymorphous ventricular tachycardia. In all 11 patients, the QT interval and corrected QT interval (QTc) were normal or minimally prolonged (QT, 385 +/- 34 msec; QTc, 442 +/- 40 msec). None had significant hypokalemia (mean serum potassium concentration, 4.3 +/- 0.5 meq/l) or a grossly abnormal serum magnesium or calcium concentration (2.1 +/- 0.4 and 8.9 +/- 0.7 mg/dl, respectively).', metadata={}),\n",
       " Document(page_content='This study was designed to determine the controlled effects of a short-term exercise rehabilitation program on patients with moderate-to-severe left ventricular dysfunction after a recent myocardial infarction.', metadata={}),\n",
       " Document(page_content='This study was designed to examine the hemodynamic, renal, and hormonal effects of brain natriuretic peptide (BNP) infusion in patients with congestive heart failure (CHF) and in control subjects.', metadata={})]"
      ]
     },
     "execution_count": 98,
     "metadata": {},
     "output_type": "execute_result"
    }
   ],
   "source": [
    "docs"
   ]
  },
  {
   "cell_type": "code",
   "execution_count": 84,
   "id": "de997250-fe69-41f1-a816-285a04b0ba5c",
   "metadata": {
    "execution": {
     "iopub.execute_input": "2023-05-26T21:11:10.392442Z",
     "iopub.status.busy": "2023-05-26T21:11:10.392060Z",
     "iopub.status.idle": "2023-05-26T21:11:10.421938Z",
     "shell.execute_reply": "2023-05-26T21:11:10.421153Z",
     "shell.execute_reply.started": "2023-05-26T21:11:10.392418Z"
    },
    "tags": []
   },
   "outputs": [
    {
     "name": "stdout",
     "output_type": "stream",
     "text": [
      "MAIN:\n",
      "Part 1: Technical and methodological issues. Contrast echocardiography is based on the use of gas microbubbles. The size, gas composition and shell structure of the microbubbles modify their stability, resistance to pressure and scattering behavior. A proposed classification of contrast agents is based on the modalities of production of microbubbles (galenic or industrial); the industrial agents are divided into three generations depending on their characteristics. Following venous administration, the industrial microbubbles behave as intravascular free-flowing tracers and this is fundamental for their use in perfusion studies. When insonated at a low acoustic pressure, microbubbles show a linear behavior and can be used for signal amplification. At intermediate acoustic pressures microbubbles resonate and produce a harmonic signal that is detectable by new scanners. Higher acoustic pressures cause microbubble disruption with emission of a transient acoustic signal. The available contrast agents behave differently in an ultrasound field. Part 2: Safety of contrast echocardiography. Galenic contrast agents were tested in many studies for intracoronary and intravenous injection and no clinically relevant side effects were detected. The intravenous injection of industrial contrast agents is safe in all conditions, even in acute coronary syndromes. The interaction between ultrasound and microbubbles produces energy with potential effects on tissue for inertial cavitation and acoustic current production. These effects seem particularly interesting for the therapeutic applications of contrast echocardiography, but they do not appear to have clinically relevant effects. Part 3: Experimental studies. Experimental studies in contrast echocardiography are designed to induce, in animal models, acute myocardial infarction and coronary artery stenosis and to evaluate the differences in blood flow. The risk area and infarct area are well visualized with serial contrast agent infusion. No-reflow after coronary occlusion is a well-known phenomenon and is detectable at contrast echocardiography. Different degrees of induced coronary stenosis cause differences in the regional flow rate. The results of contrast echocardiographic studies are comparable with those of other invasive flow measurements. Caution must be used to transfer the knowledge acquired from animal studies to the clinical arena, owing to both methodological and anatomical differences. Part 4: Enhancement of Doppler signal and coronary flow study. The anterior descending coronary artery flow is detectable in almost all patients, and the posterior descending coronary artery in about 70%. The coronary flow reserve can be measured by injection of a vasodilator agent (dipyridamole or preferably adenosine) with a success rate of almost 100 % for the anterior descending but only 50 % for the posterior descending coronary artery. Data from transthoracic studies are comparable with those of Doppler flow wire. The fields of application presently include the evaluation of acute myocardial infarction, the short- and long-term results of percutaneous coronary interventions and coronary grafts, and the study of the microcirculation in several clinical conditions where the coronary flow reserve may be reduced, such as in syndrome X, hypertension, hypercholesterolemia or diabetes. Part 5: Endocardial border enhancement. Opacification of the left ventricle is the main indication to contrast echocardiography that, in this setting, is principally used to improve endocardial border delineation. This allows accurate evaluation of left ventricular volumes and function, increasing the role of echocardiography for the quantitative study of the left ventricle. Other indications for left ventricular opacification are the identification of intraventricular thrombosis, non-compaction of the left ventricle and heart rupture. In this respect, industrial second-generation contrast agents are more useful. The most appropriate patients for contrast echocardiography are those with a poor or suboptimal acoustic window, in whom a predictable diagnostic and prognostic usefulness of the procedure is expected. If appropriately used, contrast echocardiography is a cost-effective technique, although lack of reimbursement presently limits its use. Part 6: Use of contrast agents during stress echocardiography. Contrast agents during stress echocardiography may be used to improve the diagnostic accuracy of the test and to study myocardial perfusion. The diagnosis of ischemia in stress echo relies on the operator's visual assessment of changes in contractility during stress. Contrast agents must be considered an important tool that improve image quality especially in patients with an intermediate or poor acoustic window and their use has been reported to be cost-effective in the few studies designed to this end. The evaluation of myocardial perfusion during stress is certainly one of the most important goals of contrast echocardiography. Preliminary data are interesting but there is still a number of methodological problems that currently hamper clinical application. Part 7: Myocardial perfusion. Echocardiography has the potential of visualizing microbubbles in the microcirculation by detecting stimulated acoustic emission, produced by high-energy applied ultrasound, or by detecting the harmonic signal produced by resonance of the microbubbles in a low-energy ultrasound field. In the first case images are triggered at increasing end-systolic intervals (intermittent imaging), whereas in the second case entire cardiac cycles are analyzed (real-time imaging). Continuous infusion is the preferred method of maintaining a large and constant microbubble concentration inside the microcirculation. Analysis of the perfusion signal may be made in the qualitative, semi-quantitative or quantitative mode. Quantitative analysis is based on the construction of videointensity-time curves to study the refilling phase after complete microbubble destruction. There are not enough data in the literature showing the additional role of quantitative analysis for clinical purposes. Thus, at present, quantitative softwares should be considered as research tools. Conversely, there is a general consensus based on experimental and clinical studies on the use of myocardial contrast echo in patients with acute myocardial infarction by means of qualitative or semi-quantitative analysis. Important information on the infarct area extension, on the efficacy of reperfusion therapy, on the presence and extension of the no-reflow phenomenon and on the extent of residual tissue viability may be derived from the routine use of myocardial contrast echo. The reference technique still remains myocardial scintigraphy even though many theoretical problems are being discussed. Part 8: Implementing ultrasound contrast in the echocardiography laboratory. Contrast echocardiography should be considered an extension of the existing echocardiographic examination. Standard laboratory equipment is sufficient to run a contrast echocardiography program. However, cultural and technological upgrading is mandatory to obtain good results in contrast echocardiography. Intravenous infusion is easier during stress echocardiography than during rest study, because the time and cost for the venous line are comprised. In this setting, the cost-effectiveness for the addition of contrast agent is optimal, but patient selection is a critical point. The economic issue (contrast agent and personnel costs, and time needed) of contrast echocardiography determines the fact that without adequate reimbursement there is no incentive to perform the procedure.\n",
      "SPLITS:7\n",
      "1248 **Part 1: Technical and methodological issues. Contrast echocardiography is based on the use of gas microbubbles. The size, gas composition and shell structure of the microbubbles modify their stability, resistance to pressure and scattering behavior. A proposed classification of contrast agents is based on the modalities of production of microbubbles (galenic or industrial); the industrial agents are divided into three generations depending on their characteristics. Following venous administration, the industrial microbubbles behave as intravascular free-flowing tracers and this is fundamental for their use in perfusion studies. When insonated at a low acoustic pressure, microbubbles show a linear behavior and can be used for signal amplification. At intermediate acoustic pressures microbubbles resonate and produce a harmonic signal that is detectable by new scanners. Higher acoustic pressures cause microbubble disruption with emission of a transient acoustic signal. The available contrast agents behave differently in an ultrasound field. Part 2: Safety of contrast echocardiography. Galenic contrast agents were tested in many studies for intracoronary and intravenous injection and no clinically relevant side effects were detected\n",
      "1288 **The intravenous injection of industrial contrast agents is safe in all conditions, even in acute coronary syndromes. The interaction between ultrasound and microbubbles produces energy with potential effects on tissue for inertial cavitation and acoustic current production. These effects seem particularly interesting for the therapeutic applications of contrast echocardiography, but they do not appear to have clinically relevant effects. Part 3: Experimental studies. Experimental studies in contrast echocardiography are designed to induce, in animal models, acute myocardial infarction and coronary artery stenosis and to evaluate the differences in blood flow. The risk area and infarct area are well visualized with serial contrast agent infusion. No-reflow after coronary occlusion is a well-known phenomenon and is detectable at contrast echocardiography. Different degrees of induced coronary stenosis cause differences in the regional flow rate. The results of contrast echocardiographic studies are comparable with those of other invasive flow measurements. Caution must be used to transfer the knowledge acquired from animal studies to the clinical arena, owing to both methodological and anatomical differences. Part 4: Enhancement of Doppler signal and coronary flow study\n",
      "1274 **Part 4: Enhancement of Doppler signal and coronary flow study. The anterior descending coronary artery flow is detectable in almost all patients, and the posterior descending coronary artery in about 70%. The coronary flow reserve can be measured by injection of a vasodilator agent (dipyridamole or preferably adenosine) with a success rate of almost 100 % for the anterior descending but only 50 % for the posterior descending coronary artery. Data from transthoracic studies are comparable with those of Doppler flow wire. The fields of application presently include the evaluation of acute myocardial infarction, the short- and long-term results of percutaneous coronary interventions and coronary grafts, and the study of the microcirculation in several clinical conditions where the coronary flow reserve may be reduced, such as in syndrome X, hypertension, hypercholesterolemia or diabetes. Part 5: Endocardial border enhancement. Opacification of the left ventricle is the main indication to contrast echocardiography that, in this setting, is principally used to improve endocardial border delineation. This allows accurate evaluation of left ventricular volumes and function, increasing the role of echocardiography for the quantitative study of the left ventricle\n",
      "1281 **Other indications for left ventricular opacification are the identification of intraventricular thrombosis, non-compaction of the left ventricle and heart rupture. In this respect, industrial second-generation contrast agents are more useful. The most appropriate patients for contrast echocardiography are those with a poor or suboptimal acoustic window, in whom a predictable diagnostic and prognostic usefulness of the procedure is expected. If appropriately used, contrast echocardiography is a cost-effective technique, although lack of reimbursement presently limits its use. Part 6: Use of contrast agents during stress echocardiography. Contrast agents during stress echocardiography may be used to improve the diagnostic accuracy of the test and to study myocardial perfusion. The diagnosis of ischemia in stress echo relies on the operator's visual assessment of changes in contractility during stress. Contrast agents must be considered an important tool that improve image quality especially in patients with an intermediate or poor acoustic window and their use has been reported to be cost-effective in the few studies designed to this end. The evaluation of myocardial perfusion during stress is certainly one of the most important goals of contrast echocardiography\n",
      "1267 **The evaluation of myocardial perfusion during stress is certainly one of the most important goals of contrast echocardiography. Preliminary data are interesting but there is still a number of methodological problems that currently hamper clinical application. Part 7: Myocardial perfusion. Echocardiography has the potential of visualizing microbubbles in the microcirculation by detecting stimulated acoustic emission, produced by high-energy applied ultrasound, or by detecting the harmonic signal produced by resonance of the microbubbles in a low-energy ultrasound field. In the first case images are triggered at increasing end-systolic intervals (intermittent imaging), whereas in the second case entire cardiac cycles are analyzed (real-time imaging). Continuous infusion is the preferred method of maintaining a large and constant microbubble concentration inside the microcirculation. Analysis of the perfusion signal may be made in the qualitative, semi-quantitative or quantitative mode. Quantitative analysis is based on the construction of videointensity-time curves to study the refilling phase after complete microbubble destruction. There are not enough data in the literature showing the additional role of quantitative analysis for clinical purposes\n",
      "1337 **There are not enough data in the literature showing the additional role of quantitative analysis for clinical purposes. Thus, at present, quantitative softwares should be considered as research tools. Conversely, there is a general consensus based on experimental and clinical studies on the use of myocardial contrast echo in patients with acute myocardial infarction by means of qualitative or semi-quantitative analysis. Important information on the infarct area extension, on the efficacy of reperfusion therapy, on the presence and extension of the no-reflow phenomenon and on the extent of residual tissue viability may be derived from the routine use of myocardial contrast echo. The reference technique still remains myocardial scintigraphy even though many theoretical problems are being discussed. Part 8: Implementing ultrasound contrast in the echocardiography laboratory. Contrast echocardiography should be considered an extension of the existing echocardiographic examination. Standard laboratory equipment is sufficient to run a contrast echocardiography program. However, cultural and technological upgrading is mandatory to obtain good results in contrast echocardiography. Intravenous infusion is easier during stress echocardiography than during rest study, because the time and cost for the venous line are comprised\n",
      "335 **In this setting, the cost-effectiveness for the addition of contrast agent is optimal, but patient selection is a critical point. The economic issue (contrast agent and personnel costs, and time needed) of contrast echocardiography determines the fact that without adequate reimbursement there is no incentive to perform the procedure.\n"
     ]
    }
   ],
   "source": [
    "idx = 110302\n",
    "print('MAIN:')\n",
    "print(all_data[idx]['text'])\n",
    "docs = text_splitter.create_documents([all_data[idx]['text']])\n",
    "print(f'SPLITS:{len(docs)}')\n",
    "\n",
    "for doc in docs:\n",
    "    print(len(doc.page_content),\"**\" + doc.page_content)\n"
   ]
  },
  {
   "cell_type": "code",
   "execution_count": 72,
   "id": "a5ba6cea-2a56-4339-a05c-50532c65f7c7",
   "metadata": {
    "execution": {
     "iopub.execute_input": "2023-05-26T21:06:15.874021Z",
     "iopub.status.busy": "2023-05-26T21:06:15.873632Z",
     "iopub.status.idle": "2023-05-26T21:06:15.883899Z",
     "shell.execute_reply": "2023-05-26T21:06:15.883298Z",
     "shell.execute_reply.started": "2023-05-26T21:06:15.873997Z"
    },
    "tags": []
   },
   "outputs": [
    {
     "data": {
      "text/plain": [
       "[1263]"
      ]
     },
     "execution_count": 72,
     "metadata": {},
     "output_type": "execute_result"
    }
   ],
   "source": [
    "tokenizer([all_data[idx]['text']], padding=False, return_offsets_mapping=True, return_length=True)['length']"
   ]
  },
  {
   "cell_type": "code",
   "execution_count": 75,
   "id": "68ef4ae8-1e13-4688-b7b9-88b1386fccbe",
   "metadata": {
    "execution": {
     "iopub.execute_input": "2023-05-26T21:06:55.517944Z",
     "iopub.status.busy": "2023-05-26T21:06:55.517561Z",
     "iopub.status.idle": "2023-05-26T21:06:55.527703Z",
     "shell.execute_reply": "2023-05-26T21:06:55.527145Z",
     "shell.execute_reply.started": "2023-05-26T21:06:55.517919Z"
    },
    "tags": []
   },
   "outputs": [
    {
     "name": "stdout",
     "output_type": "stream",
     "text": [
      "[106]\n",
      "[104]\n",
      "[102]\n",
      "[103]\n",
      "[96]\n",
      "[109]\n",
      "[96]\n",
      "[78]\n",
      "[87]\n",
      "[107]\n",
      "[99]\n",
      "[115]\n",
      "[95]\n",
      "[60]\n"
     ]
    }
   ],
   "source": [
    "for d in docs:\n",
    "    print(tokenizer(d.page_content, padding=False, return_offsets_mapping=True, return_length=True)['length'])"
   ]
  },
  {
   "cell_type": "code",
   "execution_count": 92,
   "id": "72097312-d401-4dfc-8d7a-0bd71cb5f828",
   "metadata": {
    "execution": {
     "iopub.execute_input": "2023-05-26T21:31:44.835354Z",
     "iopub.status.busy": "2023-05-26T21:31:44.834964Z",
     "iopub.status.idle": "2023-05-26T21:31:44.838421Z",
     "shell.execute_reply": "2023-05-26T21:31:44.837870Z",
     "shell.execute_reply.started": "2023-05-26T21:31:44.835329Z"
    },
    "tags": []
   },
   "outputs": [],
   "source": [
    "from datasets.table import Table\n",
    "import pyarrow as pa\n"
   ]
  },
  {
   "cell_type": "code",
   "execution_count": 96,
   "id": "b2cafbfd-ffa0-41b8-a67c-4925ab9a4a26",
   "metadata": {
    "execution": {
     "iopub.execute_input": "2023-05-26T21:33:15.923598Z",
     "iopub.status.busy": "2023-05-26T21:33:15.923229Z",
     "iopub.status.idle": "2023-05-26T21:33:15.927589Z",
     "shell.execute_reply": "2023-05-26T21:33:15.926870Z",
     "shell.execute_reply.started": "2023-05-26T21:33:15.923575Z"
    },
    "tags": []
   },
   "outputs": [
    {
     "ename": "SyntaxError",
     "evalue": "closing parenthesis ')' does not match opening parenthesis '{' (788907221.py, line 1)",
     "output_type": "error",
     "traceback": [
      "\u001b[0;36m  Cell \u001b[0;32mIn[96], line 1\u001b[0;36m\u001b[0m\n\u001b[0;31m    Dataset(pa.Table.from_pydict({'a': [1,2,3], 'b':['sdf', 'sdf', 'sdfsdfsdfsdfsdfdsf']))\u001b[0m\n\u001b[0m                                                                                        ^\u001b[0m\n\u001b[0;31mSyntaxError\u001b[0m\u001b[0;31m:\u001b[0m closing parenthesis ')' does not match opening parenthesis '{'\n"
     ]
    }
   ],
   "source": [
    "pa.Table.from_pydict({'a': [1,2,3], 'b':['sdf', 'sdf', 'sdfsdfsdfsdfsdfdsf']})\n",
    "\n",
    "Dataset("
   ]
  },
  {
   "cell_type": "code",
   "execution_count": null,
   "id": "f7dd5dfb-b536-4ec5-b6a8-a7e75acb78ef",
   "metadata": {},
   "outputs": [],
   "source": []
  }
 ],
 "metadata": {
  "kernelspec": {
   "display_name": "saturn (Python 3)",
   "language": "python",
   "name": "python3"
  },
  "language_info": {
   "codemirror_mode": {
    "name": "ipython",
    "version": 3
   },
   "file_extension": ".py",
   "mimetype": "text/x-python",
   "name": "python",
   "nbconvert_exporter": "python",
   "pygments_lexer": "ipython3",
   "version": "3.9.16"
  }
 },
 "nbformat": 4,
 "nbformat_minor": 5
}
